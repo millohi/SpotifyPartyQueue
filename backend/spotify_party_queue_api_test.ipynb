{
 "cells": [
  {
   "cell_type": "markdown",
   "id": "ac9b528e",
   "metadata": {},
   "source": [
    "\n",
    "# Spotify Party Queue — REST API Test Notebook\n",
    "\n",
    "Dieses Notebook testet deine REST-API (`api.py`) mit folgenden Schritten:\n",
    "\n",
    "1. **Queue abrufen** und ausgeben  \n",
    "2. **Zwei Songs** zur Queue hinzufügen  \n",
    "   - https://open.spotify.com/track/1c3T9VfcoJUblx0tnHf8Ha?si=f1325a6ae10e4146  \n",
    "   - https://open.spotify.com/track/1OcV53oesLQw3VTW9I3uD3?si=d1c9e3677a4d425f  \n",
    "3. **Queue abrufen** und ausgeben  \n",
    "4. **Fünf zufällige Abstimmungen** (`+1` oder `-1`) auf einen der beiden Songs (zufällig gewählt) — inkl. `X-Client-Id`-Header  \n",
    "5. **Queue abrufen** und ausgeben\n",
    "\n",
    "> **Voraussetzung:** Dein FastAPI-Server läuft lokal, z. B.:  \n",
    "> `uvicorn api:app --reload --port 8000`\n"
   ]
  },
  {
   "metadata": {
    "ExecuteTime": {
     "end_time": "2025-10-27T18:54:53.946668Z",
     "start_time": "2025-10-27T18:54:53.802869Z"
    }
   },
   "cell_type": "code",
   "source": [
    "from db_api import reset_db, _init_db\n",
    "reset_db()\n",
    "_init_db()"
   ],
   "id": "5e2cb1bbc1c02315",
   "outputs": [],
   "execution_count": 9
  },
  {
   "cell_type": "code",
   "id": "cebbc8ca",
   "metadata": {
    "ExecuteTime": {
     "end_time": "2025-10-27T18:54:25.988591Z",
     "start_time": "2025-10-27T18:54:25.918228Z"
    }
   },
   "source": [
    "\n",
    "# Configuration\n",
    "BASE_URL = \"http://127.0.0.1:8000\"\n",
    "\n",
    "# Test track links (as specified)\n",
    "TRACK_LINKS = [\n",
    "    \"https://open.spotify.com/track/5vNRhkKd0yEAg8suGBpjeY?si=b60c75d7407340da\", # A\n",
    "    \"https://open.spotify.com/track/4kbkYbhWNiSJraySknB4hD?si=38b00ef76d9b4240\", # B\n",
    "    \"https://open.spotify.com/track/6E0dc82Da4W5QWXR8ktoGT?si=644080da1b5c409b\", # C\n",
    "    \"https://open.spotify.com/track/6ZjGVECiTZnZUnLqit0sUS?si=7e356a4808754191\", # D\n",
    "    \"https://open.spotify.com/track/4AFbvNPzLlMPt36Q9fVgKZ?si=5c9dcdc4610e4440\", # E\n",
    "    \"https://open.spotify.com/track/1v1cijv1qjMJ5o9OvMWACS?si=0fbe130021ce49f4\", # F\n",
    "    \"https://open.spotify.com/track/1CPZ5BxNNd0n0nF4Orb9JS?si=a7cd57852d2b4295\", # G\n",
    "]\n",
    "\n",
    "# Optional: fixed client id for reproducibility; set to None to randomize\n",
    "FIXED_CLIENT_ID = None\n"
   ],
   "outputs": [],
   "execution_count": 2
  },
  {
   "cell_type": "code",
   "id": "546989af",
   "metadata": {
    "ExecuteTime": {
     "end_time": "2025-10-27T18:59:15.827934Z",
     "start_time": "2025-10-27T18:59:15.817875Z"
    }
   },
   "source": [
    "\n",
    "import random\n",
    "import uuid\n",
    "import re\n",
    "import requests\n",
    "from typing import List, Dict, Any, Optional\n",
    "\n",
    "def get_client_id() -> str:\n",
    "    if FIXED_CLIENT_ID:\n",
    "        return FIXED_CLIENT_ID\n",
    "    return str(uuid.uuid4())\n",
    "\n",
    "def pretty_print_queue(queue: List[Dict[str, Any]]) -> None:\n",
    "    if not queue:\n",
    "        print(\"Queue is empty []\")\n",
    "        return\n",
    "    for i, item in enumerate(queue, 1):\n",
    "        print(f\"{i:02d}. {item.get('name')} — {item.get('artist')}  (id={item.get('id')}, votes={item.get(\"vote_sum\")}, client_vote={item.get(\"client_vote\")})\")\n",
    "\n",
    "SPOTIFY_TRACK_ID_RE = re.compile(r\"\"\"(?:\n",
    "    spotify:track:(?P<id1>[A-Za-z0-9]+)\n",
    "    |\n",
    "    open\\.spotify\\.com/track/(?P<id2>[A-Za-z0-9]+)\n",
    ")\"\"\", re.IGNORECASE | re.VERBOSE)\n",
    "\n",
    "def extract_track_id(link_or_uri: str) -> Optional[str]:\n",
    "    m = SPOTIFY_TRACK_ID_RE.search(link_or_uri or \"\")\n",
    "    return m.group(\"id1\") or m.group(\"id2\") if m else None\n"
   ],
   "outputs": [],
   "execution_count": 11
  },
  {
   "cell_type": "markdown",
   "id": "b284e9dd",
   "metadata": {},
   "source": [
    "## 1) Queue abrufen"
   ]
  },
  {
   "cell_type": "code",
   "id": "9f8b09bf",
   "metadata": {
    "ExecuteTime": {
     "end_time": "2025-10-27T18:54:27.218261Z",
     "start_time": "2025-10-27T18:54:27.185629Z"
    }
   },
   "source": [
    "\n",
    "resp = requests.get(f\"{BASE_URL}/queue\")\n",
    "print(\"Status:\", resp.status_code)\n",
    "queue = resp.json() if resp.ok else []\n",
    "pretty_print_queue(queue)\n"
   ],
   "outputs": [
    {
     "name": "stdout",
     "output_type": "stream",
     "text": [
      "Status: 200\n",
      "Queue is empty []\n"
     ]
    }
   ],
   "execution_count": 4
  },
  {
   "cell_type": "markdown",
   "id": "41a2a7ce",
   "metadata": {},
   "source": [
    "## 2) Zwei Songs zur Queue hinzufügen"
   ]
  },
  {
   "cell_type": "code",
   "id": "36ae6747",
   "metadata": {
    "ExecuteTime": {
     "end_time": "2025-10-27T18:54:29.540989Z",
     "start_time": "2025-10-27T18:54:27.465888Z"
    }
   },
   "source": [
    "\n",
    "for link in TRACK_LINKS:\n",
    "    payload = {\"song_link\": link}\n",
    "    resp = requests.post(f\"{BASE_URL}/queue\", json=payload)\n",
    "    print(f\"Add {link} → Status:\", resp.status_code, \"| Result:\", resp.json() if resp.ok else resp.text)\n"
   ],
   "outputs": [
    {
     "name": "stdout",
     "output_type": "stream",
     "text": [
      "Add https://open.spotify.com/track/5vNRhkKd0yEAg8suGBpjeY?si=b60c75d7407340da → Status: 200 | Result: True\n",
      "Add https://open.spotify.com/track/4kbkYbhWNiSJraySknB4hD?si=38b00ef76d9b4240 → Status: 200 | Result: True\n",
      "Add https://open.spotify.com/track/6E0dc82Da4W5QWXR8ktoGT?si=644080da1b5c409b → Status: 200 | Result: True\n",
      "Add https://open.spotify.com/track/6ZjGVECiTZnZUnLqit0sUS?si=7e356a4808754191 → Status: 200 | Result: True\n",
      "Add https://open.spotify.com/track/4AFbvNPzLlMPt36Q9fVgKZ?si=5c9dcdc4610e4440 → Status: 200 | Result: True\n",
      "Add https://open.spotify.com/track/1v1cijv1qjMJ5o9OvMWACS?si=0fbe130021ce49f4 → Status: 200 | Result: True\n",
      "Add https://open.spotify.com/track/1CPZ5BxNNd0n0nF4Orb9JS?si=a7cd57852d2b4295 → Status: 200 | Result: True\n"
     ]
    }
   ],
   "execution_count": 5
  },
  {
   "cell_type": "markdown",
   "id": "16285f25",
   "metadata": {},
   "source": [
    "## 3) Queue erneut abrufen"
   ]
  },
  {
   "cell_type": "code",
   "id": "3830ef1a",
   "metadata": {
    "ExecuteTime": {
     "end_time": "2025-10-27T18:54:29.581126Z",
     "start_time": "2025-10-27T18:54:29.567100Z"
    }
   },
   "source": [
    "\n",
    "resp = requests.get(f\"{BASE_URL}/queue\")\n",
    "print(\"Status:\", resp.status_code)\n",
    "queue = resp.json() if resp.ok else []\n",
    "pretty_print_queue(queue)\n"
   ],
   "outputs": [
    {
     "name": "stdout",
     "output_type": "stream",
     "text": [
      "Status: 200\n",
      "01. APT. — ROSÉ, Bruno Mars  (id=5vNRhkKd0yEAg8suGBpjeY, votes=0)\n",
      "02. Baller — Abor & Tynna  (id=4kbkYbhWNiSJraySknB4hD, votes=0)\n",
      "03. Call On Me - Radio Edit — Eric Prydz  (id=6E0dc82Da4W5QWXR8ktoGT, votes=0)\n",
      "04. Deep Cries Out - Live — Christ For The Nations Worship, Gabriel Allred  (id=6ZjGVECiTZnZUnLqit0sUS, votes=0)\n",
      "05. Ewigkeit — O'Bros, Outbreakband  (id=4AFbvNPzLlMPt36Q9fVgKZ, votes=0)\n",
      "06. Fata Morgana — Nina Chuba  (id=1v1cijv1qjMJ5o9OvMWACS, votes=0)\n",
      "07. Golden — HUNTR/X, EJAE, AUDREY NUNA, REI AMI, KPop Demon Hunters Cast  (id=1CPZ5BxNNd0n0nF4Orb9JS, votes=0)\n"
     ]
    }
   ],
   "execution_count": 6
  },
  {
   "cell_type": "markdown",
   "id": "00432bb9",
   "metadata": {},
   "source": [
    "## 4) Fünf zufällige Abstimmungen (+1 oder -1)"
   ]
  },
  {
   "cell_type": "code",
   "id": "ce5c56c9",
   "metadata": {
    "ExecuteTime": {
     "end_time": "2025-10-27T18:54:31.881203Z",
     "start_time": "2025-10-27T18:54:29.804567Z"
    }
   },
   "source": [
    "\n",
    "ids = []\n",
    "for link in TRACK_LINKS:\n",
    "    tid = extract_track_id(link)\n",
    "    if tid:\n",
    "        ids.append(tid)\n",
    "\n",
    "if len(ids) < 2:\n",
    "    print(\"Warnung: Konnte nicht beide Track-IDs extrahieren:\", ids)\n",
    "\n",
    "for i in range(100):\n",
    "    client_id = get_client_id()\n",
    "    print(\"Client-ID (X-Client-Id):\", client_id)\n",
    "    song_id = random.choice(ids)\n",
    "    vote = random.choice([1, 0, -1])\n",
    "    payload = {\"song_id\": song_id, \"vote\": vote}\n",
    "    headers = {\"X-Client-Id\": client_id, \"Content-Type\": \"application/json\"}\n",
    "    resp = requests.post(f\"{BASE_URL}/vote\", json=payload, headers=headers)\n",
    "    print(f\"Vote {i+1}/5 → song_id={song_id}, vote={vote} → Status:\", resp.status_code, \"| Result:\", resp.json() if resp.ok else resp.text)\n"
   ],
   "outputs": [
    {
     "name": "stdout",
     "output_type": "stream",
     "text": [
      "Client-ID (X-Client-Id): 93874988-3a99-4785-af58-f9d922a4429c\n",
      "Vote 1/5 → song_id=6ZjGVECiTZnZUnLqit0sUS, vote=-1 → Status: 200 | Result: True\n",
      "Client-ID (X-Client-Id): b6f7fb5a-951f-4c4a-91f9-08b4957bf83e\n",
      "Vote 2/5 → song_id=4AFbvNPzLlMPt36Q9fVgKZ, vote=-1 → Status: 200 | Result: True\n",
      "Client-ID (X-Client-Id): e1888b4c-3161-4633-91d5-c678cb1fadfe\n",
      "Vote 3/5 → song_id=6ZjGVECiTZnZUnLqit0sUS, vote=-1 → Status: 200 | Result: True\n",
      "Client-ID (X-Client-Id): ac0b871f-6f94-4469-a769-874052c0bc54\n",
      "Vote 4/5 → song_id=6E0dc82Da4W5QWXR8ktoGT, vote=-1 → Status: 200 | Result: True\n",
      "Client-ID (X-Client-Id): 33be35cb-855b-4393-980d-66d79f026c35\n",
      "Vote 5/5 → song_id=4AFbvNPzLlMPt36Q9fVgKZ, vote=-1 → Status: 200 | Result: True\n",
      "Client-ID (X-Client-Id): 8b60f138-e731-4061-8478-d294ef9994fd\n",
      "Vote 6/5 → song_id=4kbkYbhWNiSJraySknB4hD, vote=0 → Status: 200 | Result: True\n",
      "Client-ID (X-Client-Id): d1fa0ca0-2e0a-43e2-a989-780297759e6b\n",
      "Vote 7/5 → song_id=1v1cijv1qjMJ5o9OvMWACS, vote=0 → Status: 200 | Result: True\n",
      "Client-ID (X-Client-Id): 807cbf24-5609-4ba8-8243-db863bf9af1b\n",
      "Vote 8/5 → song_id=4kbkYbhWNiSJraySknB4hD, vote=-1 → Status: 200 | Result: True\n",
      "Client-ID (X-Client-Id): 462ee6de-92c5-4df9-9eb1-fd9e5e358358\n",
      "Vote 9/5 → song_id=1CPZ5BxNNd0n0nF4Orb9JS, vote=1 → Status: 200 | Result: True\n",
      "Client-ID (X-Client-Id): 4e265378-1f05-4ae6-a341-3914f4e7733b\n",
      "Vote 10/5 → song_id=4kbkYbhWNiSJraySknB4hD, vote=0 → Status: 200 | Result: True\n",
      "Client-ID (X-Client-Id): 977026db-e28d-42f9-aba7-4d2fc3129d83\n",
      "Vote 11/5 → song_id=4AFbvNPzLlMPt36Q9fVgKZ, vote=1 → Status: 200 | Result: True\n",
      "Client-ID (X-Client-Id): da607226-0992-46ec-95a5-95734a58cbe0\n",
      "Vote 12/5 → song_id=6E0dc82Da4W5QWXR8ktoGT, vote=-1 → Status: 200 | Result: True\n",
      "Client-ID (X-Client-Id): a4dde38b-42c8-4644-ab43-f706b10e8976\n",
      "Vote 13/5 → song_id=4kbkYbhWNiSJraySknB4hD, vote=-1 → Status: 200 | Result: True\n",
      "Client-ID (X-Client-Id): 5bfe22f9-9732-4465-b153-18be0966773a\n",
      "Vote 14/5 → song_id=6ZjGVECiTZnZUnLqit0sUS, vote=-1 → Status: 200 | Result: True\n",
      "Client-ID (X-Client-Id): 562649e0-6c19-4bd3-b084-9732fdaeaf91\n",
      "Vote 15/5 → song_id=6E0dc82Da4W5QWXR8ktoGT, vote=1 → Status: 200 | Result: True\n",
      "Client-ID (X-Client-Id): 19bf02e4-c190-4c50-bd35-dcb25062044b\n",
      "Vote 16/5 → song_id=1CPZ5BxNNd0n0nF4Orb9JS, vote=0 → Status: 200 | Result: True\n",
      "Client-ID (X-Client-Id): 2216ffc6-e8f0-4be7-9b6c-50ad9106f21d\n",
      "Vote 17/5 → song_id=4AFbvNPzLlMPt36Q9fVgKZ, vote=-1 → Status: 200 | Result: True\n",
      "Client-ID (X-Client-Id): 746fb74e-47a3-4382-b6fb-fab6c81a0eb0\n",
      "Vote 18/5 → song_id=5vNRhkKd0yEAg8suGBpjeY, vote=1 → Status: 200 | Result: True\n",
      "Client-ID (X-Client-Id): 19dc5196-6584-4997-bdcb-89cb78e712f7\n",
      "Vote 19/5 → song_id=6E0dc82Da4W5QWXR8ktoGT, vote=1 → Status: 200 | Result: True\n",
      "Client-ID (X-Client-Id): ccc16f70-b353-4bf0-8f04-0852334c71aa\n",
      "Vote 20/5 → song_id=4AFbvNPzLlMPt36Q9fVgKZ, vote=1 → Status: 200 | Result: True\n",
      "Client-ID (X-Client-Id): f8060b7c-3ee4-40d4-8213-a581c3c23388\n",
      "Vote 21/5 → song_id=6ZjGVECiTZnZUnLqit0sUS, vote=1 → Status: 200 | Result: True\n",
      "Client-ID (X-Client-Id): ad8c9c2e-ce1c-4afe-9bbe-98e8b3faca21\n",
      "Vote 22/5 → song_id=4AFbvNPzLlMPt36Q9fVgKZ, vote=1 → Status: 200 | Result: True\n",
      "Client-ID (X-Client-Id): efc2d9ca-a437-48c4-ae10-c239338c6d7f\n",
      "Vote 23/5 → song_id=6E0dc82Da4W5QWXR8ktoGT, vote=1 → Status: 200 | Result: True\n",
      "Client-ID (X-Client-Id): 46081770-33a6-45e1-b4ce-774df0fd311b\n",
      "Vote 24/5 → song_id=1CPZ5BxNNd0n0nF4Orb9JS, vote=1 → Status: 200 | Result: True\n",
      "Client-ID (X-Client-Id): fbc8b026-58be-4c8c-af98-87c4c5b96feb\n",
      "Vote 25/5 → song_id=1v1cijv1qjMJ5o9OvMWACS, vote=1 → Status: 200 | Result: True\n",
      "Client-ID (X-Client-Id): 107c029b-82c0-42a0-91d3-81edd35119b1\n",
      "Vote 26/5 → song_id=1CPZ5BxNNd0n0nF4Orb9JS, vote=-1 → Status: 200 | Result: True\n",
      "Client-ID (X-Client-Id): 16d1b914-1035-4f94-ba72-bba437605060\n",
      "Vote 27/5 → song_id=4kbkYbhWNiSJraySknB4hD, vote=0 → Status: 200 | Result: True\n",
      "Client-ID (X-Client-Id): 25c03b99-afac-47a4-bb70-4926179d3b1c\n",
      "Vote 28/5 → song_id=4AFbvNPzLlMPt36Q9fVgKZ, vote=-1 → Status: 200 | Result: True\n",
      "Client-ID (X-Client-Id): 4e1e2ef3-3074-48e3-a739-bf43567bebf9\n",
      "Vote 29/5 → song_id=1v1cijv1qjMJ5o9OvMWACS, vote=-1 → Status: 200 | Result: True\n",
      "Client-ID (X-Client-Id): 755a47a1-cc83-4e76-96f1-ab5f1c28d76a\n",
      "Vote 30/5 → song_id=5vNRhkKd0yEAg8suGBpjeY, vote=1 → Status: 200 | Result: True\n",
      "Client-ID (X-Client-Id): e1e4716e-efab-47d4-b211-7078f955dcbc\n",
      "Vote 31/5 → song_id=5vNRhkKd0yEAg8suGBpjeY, vote=-1 → Status: 200 | Result: True\n",
      "Client-ID (X-Client-Id): 1c83f2fb-c018-49d6-bab3-1ab954f7994e\n",
      "Vote 32/5 → song_id=1v1cijv1qjMJ5o9OvMWACS, vote=0 → Status: 200 | Result: True\n",
      "Client-ID (X-Client-Id): 9568b4b7-43da-4801-a1f0-db4b0debac61\n",
      "Vote 33/5 → song_id=5vNRhkKd0yEAg8suGBpjeY, vote=0 → Status: 200 | Result: True\n",
      "Client-ID (X-Client-Id): c1d3fe66-d911-4948-9ec4-2457bc06513d\n",
      "Vote 34/5 → song_id=4kbkYbhWNiSJraySknB4hD, vote=-1 → Status: 200 | Result: True\n",
      "Client-ID (X-Client-Id): 9a9a0f11-f3aa-431b-8298-87c8ed256228\n",
      "Vote 35/5 → song_id=1CPZ5BxNNd0n0nF4Orb9JS, vote=0 → Status: 200 | Result: True\n",
      "Client-ID (X-Client-Id): f54b8de6-df0b-4a63-a712-1a2446f72209\n",
      "Vote 36/5 → song_id=4AFbvNPzLlMPt36Q9fVgKZ, vote=-1 → Status: 200 | Result: True\n",
      "Client-ID (X-Client-Id): d894d4ff-b348-4b80-8751-58cb5871b807\n",
      "Vote 37/5 → song_id=6E0dc82Da4W5QWXR8ktoGT, vote=0 → Status: 200 | Result: True\n",
      "Client-ID (X-Client-Id): 4c94ab39-ab51-4916-9536-bf666a7c6b71\n",
      "Vote 38/5 → song_id=4kbkYbhWNiSJraySknB4hD, vote=1 → Status: 200 | Result: True\n",
      "Client-ID (X-Client-Id): 63fc12e8-c27a-4c9c-aedd-935cbbe90f25\n",
      "Vote 39/5 → song_id=1v1cijv1qjMJ5o9OvMWACS, vote=1 → Status: 200 | Result: True\n",
      "Client-ID (X-Client-Id): 311fe070-7124-4ddc-a905-fd68bb565702\n",
      "Vote 40/5 → song_id=4kbkYbhWNiSJraySknB4hD, vote=0 → Status: 200 | Result: True\n",
      "Client-ID (X-Client-Id): a0ea3c32-a0f8-4140-89f0-eb146b127647\n",
      "Vote 41/5 → song_id=4AFbvNPzLlMPt36Q9fVgKZ, vote=-1 → Status: 200 | Result: True\n",
      "Client-ID (X-Client-Id): 53873b84-cfb3-4f87-bf48-165dcfda4b41\n",
      "Vote 42/5 → song_id=1v1cijv1qjMJ5o9OvMWACS, vote=-1 → Status: 200 | Result: True\n",
      "Client-ID (X-Client-Id): 6c967a96-8dbd-482b-988b-cbba41f6a906\n",
      "Vote 43/5 → song_id=6ZjGVECiTZnZUnLqit0sUS, vote=-1 → Status: 200 | Result: True\n",
      "Client-ID (X-Client-Id): e23ead42-3582-4464-9de4-fa4e2e152313\n",
      "Vote 44/5 → song_id=1CPZ5BxNNd0n0nF4Orb9JS, vote=1 → Status: 200 | Result: True\n",
      "Client-ID (X-Client-Id): 5a75da6b-4353-486e-8eb5-872a6690c399\n",
      "Vote 45/5 → song_id=1CPZ5BxNNd0n0nF4Orb9JS, vote=-1 → Status: 200 | Result: True\n",
      "Client-ID (X-Client-Id): 8eb9a0a7-4e67-409a-95fb-0a91c366eb9c\n",
      "Vote 46/5 → song_id=4kbkYbhWNiSJraySknB4hD, vote=-1 → Status: 200 | Result: True\n",
      "Client-ID (X-Client-Id): 394a1a51-9d8f-4e92-a05f-f26bc3e62797\n",
      "Vote 47/5 → song_id=4kbkYbhWNiSJraySknB4hD, vote=-1 → Status: 200 | Result: True\n",
      "Client-ID (X-Client-Id): 367a6349-a204-4922-9b98-2fdde5d07aa5\n",
      "Vote 48/5 → song_id=1v1cijv1qjMJ5o9OvMWACS, vote=1 → Status: 200 | Result: True\n",
      "Client-ID (X-Client-Id): 6653c0b8-0aeb-4ea9-945c-3ca7f5e73227\n",
      "Vote 49/5 → song_id=5vNRhkKd0yEAg8suGBpjeY, vote=-1 → Status: 200 | Result: True\n",
      "Client-ID (X-Client-Id): f482e6fa-53c7-4431-9ad6-e11ebc79d1c3\n",
      "Vote 50/5 → song_id=1CPZ5BxNNd0n0nF4Orb9JS, vote=0 → Status: 200 | Result: True\n",
      "Client-ID (X-Client-Id): bceebaba-d3bf-45df-acdb-78d9cd9434d8\n",
      "Vote 51/5 → song_id=6ZjGVECiTZnZUnLqit0sUS, vote=1 → Status: 200 | Result: True\n",
      "Client-ID (X-Client-Id): 2e59f8bd-38d9-41d1-94e7-28b6d644f3ab\n",
      "Vote 52/5 → song_id=4kbkYbhWNiSJraySknB4hD, vote=0 → Status: 200 | Result: True\n",
      "Client-ID (X-Client-Id): e434f13d-f8b6-4ae5-9188-96faea8b9692\n",
      "Vote 53/5 → song_id=6ZjGVECiTZnZUnLqit0sUS, vote=1 → Status: 200 | Result: True\n",
      "Client-ID (X-Client-Id): a0e5ee40-588d-440b-a2fc-de5c8bf81427\n",
      "Vote 54/5 → song_id=4AFbvNPzLlMPt36Q9fVgKZ, vote=1 → Status: 200 | Result: True\n",
      "Client-ID (X-Client-Id): 3ace5ffe-77c5-4dea-af93-69808e97867e\n",
      "Vote 55/5 → song_id=1v1cijv1qjMJ5o9OvMWACS, vote=1 → Status: 200 | Result: True\n",
      "Client-ID (X-Client-Id): b43b28ef-dfd3-43fa-ab23-3b8994c0a473\n",
      "Vote 56/5 → song_id=1v1cijv1qjMJ5o9OvMWACS, vote=0 → Status: 200 | Result: True\n",
      "Client-ID (X-Client-Id): dd22923e-1735-4b8c-804c-23bd31f86b94\n",
      "Vote 57/5 → song_id=1CPZ5BxNNd0n0nF4Orb9JS, vote=0 → Status: 200 | Result: True\n",
      "Client-ID (X-Client-Id): e133eeed-f4e5-4c25-b495-ec5331a9a26b\n",
      "Vote 58/5 → song_id=6E0dc82Da4W5QWXR8ktoGT, vote=0 → Status: 200 | Result: True\n",
      "Client-ID (X-Client-Id): e7333304-0e3c-410c-80e3-1586f3f5987d\n",
      "Vote 59/5 → song_id=1v1cijv1qjMJ5o9OvMWACS, vote=1 → Status: 200 | Result: True\n",
      "Client-ID (X-Client-Id): 4c2ea5e1-52a7-4cac-8304-d378f28cb72c\n",
      "Vote 60/5 → song_id=5vNRhkKd0yEAg8suGBpjeY, vote=1 → Status: 200 | Result: True\n",
      "Client-ID (X-Client-Id): 25166701-c2da-44c4-9f06-d878c9b8058e\n",
      "Vote 61/5 → song_id=6ZjGVECiTZnZUnLqit0sUS, vote=-1 → Status: 200 | Result: True\n",
      "Client-ID (X-Client-Id): 8992bcbe-4f50-479b-b5d2-fafdab21f9aa\n",
      "Vote 62/5 → song_id=6E0dc82Da4W5QWXR8ktoGT, vote=-1 → Status: 200 | Result: True\n",
      "Client-ID (X-Client-Id): ac919de0-2cb7-46a7-a55a-faa09a0bb25a\n",
      "Vote 63/5 → song_id=1CPZ5BxNNd0n0nF4Orb9JS, vote=0 → Status: 200 | Result: True\n",
      "Client-ID (X-Client-Id): 836481a8-7dee-4238-b3c2-d2edca57a00b\n",
      "Vote 64/5 → song_id=5vNRhkKd0yEAg8suGBpjeY, vote=-1 → Status: 200 | Result: True\n",
      "Client-ID (X-Client-Id): 0cf3c790-49cb-46e6-8ba0-3a1cf1b1b5d3\n",
      "Vote 65/5 → song_id=4AFbvNPzLlMPt36Q9fVgKZ, vote=0 → Status: 200 | Result: True\n",
      "Client-ID (X-Client-Id): 0ec7b91b-7ed9-4264-8ce4-c388ab268110\n",
      "Vote 66/5 → song_id=5vNRhkKd0yEAg8suGBpjeY, vote=-1 → Status: 200 | Result: True\n",
      "Client-ID (X-Client-Id): cdf30da5-3189-4e42-ad40-0a2e380d1982\n",
      "Vote 67/5 → song_id=6ZjGVECiTZnZUnLqit0sUS, vote=-1 → Status: 200 | Result: True\n",
      "Client-ID (X-Client-Id): 20ae8d0d-d071-4856-9447-163dd5d8e27c\n",
      "Vote 68/5 → song_id=4kbkYbhWNiSJraySknB4hD, vote=0 → Status: 200 | Result: True\n",
      "Client-ID (X-Client-Id): 95b748ff-0595-4b8e-a462-441ff072294f\n",
      "Vote 69/5 → song_id=6ZjGVECiTZnZUnLqit0sUS, vote=-1 → Status: 200 | Result: True\n",
      "Client-ID (X-Client-Id): bfba2f9b-d2fc-49f2-a67f-d0b81e966149\n",
      "Vote 70/5 → song_id=6E0dc82Da4W5QWXR8ktoGT, vote=0 → Status: 200 | Result: True\n",
      "Client-ID (X-Client-Id): d803dcb2-5be0-4b0d-89ba-020f7bce4273\n",
      "Vote 71/5 → song_id=6ZjGVECiTZnZUnLqit0sUS, vote=-1 → Status: 200 | Result: True\n",
      "Client-ID (X-Client-Id): b9ce29d4-d07c-4083-9c99-e4367accdf2a\n",
      "Vote 72/5 → song_id=6ZjGVECiTZnZUnLqit0sUS, vote=1 → Status: 200 | Result: True\n",
      "Client-ID (X-Client-Id): 6000ef06-f85e-42ee-9c38-26e91e1e6b84\n",
      "Vote 73/5 → song_id=1CPZ5BxNNd0n0nF4Orb9JS, vote=0 → Status: 200 | Result: True\n",
      "Client-ID (X-Client-Id): 04e98a26-d761-496f-b514-c66d83b7b34a\n",
      "Vote 74/5 → song_id=4AFbvNPzLlMPt36Q9fVgKZ, vote=1 → Status: 200 | Result: True\n",
      "Client-ID (X-Client-Id): 056cf973-15ef-4080-8715-956c6fca789c\n",
      "Vote 75/5 → song_id=4kbkYbhWNiSJraySknB4hD, vote=0 → Status: 200 | Result: True\n",
      "Client-ID (X-Client-Id): 23027e49-d981-4ea9-a3a1-83da179a867f\n",
      "Vote 76/5 → song_id=1v1cijv1qjMJ5o9OvMWACS, vote=0 → Status: 200 | Result: True\n",
      "Client-ID (X-Client-Id): 07210a76-70cb-4ae9-980d-af7708053f14\n",
      "Vote 77/5 → song_id=6ZjGVECiTZnZUnLqit0sUS, vote=1 → Status: 200 | Result: True\n",
      "Client-ID (X-Client-Id): c671909d-0e2b-4d80-9aad-2c7011db9c47\n",
      "Vote 78/5 → song_id=1v1cijv1qjMJ5o9OvMWACS, vote=1 → Status: 200 | Result: True\n",
      "Client-ID (X-Client-Id): 76bb1360-7a07-480c-ab6c-aa07a6375465\n",
      "Vote 79/5 → song_id=4kbkYbhWNiSJraySknB4hD, vote=0 → Status: 200 | Result: True\n",
      "Client-ID (X-Client-Id): 875a3912-f448-42b7-b255-edfb9027a8ef\n",
      "Vote 80/5 → song_id=5vNRhkKd0yEAg8suGBpjeY, vote=-1 → Status: 200 | Result: True\n",
      "Client-ID (X-Client-Id): 9d74252d-261c-499b-9c68-94aa0de78090\n",
      "Vote 81/5 → song_id=6ZjGVECiTZnZUnLqit0sUS, vote=1 → Status: 200 | Result: True\n",
      "Client-ID (X-Client-Id): 72fbe99f-2345-4071-9f1e-0e7c7772d75c\n",
      "Vote 82/5 → song_id=1CPZ5BxNNd0n0nF4Orb9JS, vote=1 → Status: 200 | Result: True\n",
      "Client-ID (X-Client-Id): 3c7bc79d-b88f-483b-a351-47849abe7fe7\n",
      "Vote 83/5 → song_id=4kbkYbhWNiSJraySknB4hD, vote=-1 → Status: 200 | Result: True\n",
      "Client-ID (X-Client-Id): beed777c-fd8f-4f48-b458-0e66aa521597\n",
      "Vote 84/5 → song_id=4kbkYbhWNiSJraySknB4hD, vote=1 → Status: 200 | Result: True\n",
      "Client-ID (X-Client-Id): 2bebe065-2417-4a60-a7d0-222b8e81c346\n",
      "Vote 85/5 → song_id=1v1cijv1qjMJ5o9OvMWACS, vote=0 → Status: 200 | Result: True\n",
      "Client-ID (X-Client-Id): 440076f8-c598-459f-af13-0e43ff7f38de\n",
      "Vote 86/5 → song_id=5vNRhkKd0yEAg8suGBpjeY, vote=0 → Status: 200 | Result: True\n",
      "Client-ID (X-Client-Id): 0d1ade26-fbc7-4e4b-ada0-422dc969061d\n",
      "Vote 87/5 → song_id=4kbkYbhWNiSJraySknB4hD, vote=1 → Status: 200 | Result: True\n",
      "Client-ID (X-Client-Id): 5559f2b8-08b0-4034-a22a-ccd8966295b4\n",
      "Vote 88/5 → song_id=5vNRhkKd0yEAg8suGBpjeY, vote=1 → Status: 200 | Result: True\n",
      "Client-ID (X-Client-Id): 6794e599-1a1b-4220-9ae7-9169eacb627f\n",
      "Vote 89/5 → song_id=4AFbvNPzLlMPt36Q9fVgKZ, vote=-1 → Status: 200 | Result: True\n",
      "Client-ID (X-Client-Id): 8d60cdc1-b5a7-40e9-88aa-fcbcf1998235\n",
      "Vote 90/5 → song_id=5vNRhkKd0yEAg8suGBpjeY, vote=0 → Status: 200 | Result: True\n",
      "Client-ID (X-Client-Id): 0f281563-a619-4894-9e0e-99eb9da724ac\n",
      "Vote 91/5 → song_id=1CPZ5BxNNd0n0nF4Orb9JS, vote=0 → Status: 200 | Result: True\n",
      "Client-ID (X-Client-Id): cd0ea92f-f825-437f-bd34-002d9ee90615\n",
      "Vote 92/5 → song_id=4kbkYbhWNiSJraySknB4hD, vote=0 → Status: 200 | Result: True\n",
      "Client-ID (X-Client-Id): b0839c14-e88c-4f92-a7ab-a1b5c6dd4807\n",
      "Vote 93/5 → song_id=4kbkYbhWNiSJraySknB4hD, vote=0 → Status: 200 | Result: True\n",
      "Client-ID (X-Client-Id): ffef01ba-64e4-4e72-a8f0-54ae51f61ad9\n",
      "Vote 94/5 → song_id=1v1cijv1qjMJ5o9OvMWACS, vote=0 → Status: 200 | Result: True\n",
      "Client-ID (X-Client-Id): 56b3c269-3ab3-4d60-8d5e-e953d85aca6d\n",
      "Vote 95/5 → song_id=6ZjGVECiTZnZUnLqit0sUS, vote=-1 → Status: 200 | Result: True\n",
      "Client-ID (X-Client-Id): 44c59497-86b4-475f-a77b-348127369f17\n",
      "Vote 96/5 → song_id=6ZjGVECiTZnZUnLqit0sUS, vote=-1 → Status: 200 | Result: True\n",
      "Client-ID (X-Client-Id): 7ffcb335-56d7-4fd1-b5c2-8e99c53584d6\n",
      "Vote 97/5 → song_id=6ZjGVECiTZnZUnLqit0sUS, vote=1 → Status: 200 | Result: True\n",
      "Client-ID (X-Client-Id): a5be8dfe-89a0-48e9-be7a-2b7d919c9122\n",
      "Vote 98/5 → song_id=4kbkYbhWNiSJraySknB4hD, vote=0 → Status: 200 | Result: True\n",
      "Client-ID (X-Client-Id): be827918-b808-4d7b-8528-049beeff8b51\n",
      "Vote 99/5 → song_id=6E0dc82Da4W5QWXR8ktoGT, vote=0 → Status: 200 | Result: True\n",
      "Client-ID (X-Client-Id): 63caf91d-8fa0-459a-8822-f16a66385044\n",
      "Vote 100/5 → song_id=1v1cijv1qjMJ5o9OvMWACS, vote=1 → Status: 200 | Result: True\n"
     ]
    }
   ],
   "execution_count": 7
  },
  {
   "cell_type": "markdown",
   "id": "39f00aca",
   "metadata": {},
   "source": [
    "## 5) Queue abrufen (final)"
   ]
  },
  {
   "cell_type": "code",
   "id": "e35701ce",
   "metadata": {
    "ExecuteTime": {
     "end_time": "2025-10-27T19:00:44.221436Z",
     "start_time": "2025-10-27T19:00:42.704658Z"
    }
   },
   "source": [
    "client_id = get_client_id()\n",
    "song_id = \"5vNRhkKd0yEAg8suGBpjeY\"\n",
    "vote = random.choice([1])\n",
    "payload = {\"song_id\": song_id, \"vote\": vote}\n",
    "headers = {\"X-Client-Id\": client_id, \"Content-Type\": \"application/json\"}\n",
    "resp = requests.post(f\"{BASE_URL}/vote\", json=payload, headers=headers)\n",
    "headers = {\"X-Client-Id\": client_id, \"Content-Type\": \"application/json\"}\n",
    "resp = requests.get(f\"{BASE_URL}/queue\", headers=headers)\n",
    "print(\"Status:\", resp.status_code)\n",
    "queue = resp.json() if resp.ok else []\n",
    "pretty_print_queue(queue)"
   ],
   "outputs": [
    {
     "name": "stdout",
     "output_type": "stream",
     "text": [
      "Status: 200\n",
      "01. APT. — ROSÉ, Bruno Mars  (id=5vNRhkKd0yEAg8suGBpjeY, votes=-1, client_vote=1)\n"
     ]
    }
   ],
   "execution_count": 34
  }
 ],
 "metadata": {},
 "nbformat": 4,
 "nbformat_minor": 5
}
